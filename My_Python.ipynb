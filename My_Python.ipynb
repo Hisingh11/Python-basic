{
  "nbformat": 4,
  "nbformat_minor": 0,
  "metadata": {
    "colab": {
      "provenance": []
    },
    "kernelspec": {
      "name": "python3",
      "display_name": "Python 3"
    },
    "language_info": {
      "name": "python"
    }
  },
  "cells": [
    {
      "cell_type": "code",
      "execution_count": null,
      "metadata": {
        "id": "blmSQibXu0my"
      },
      "outputs": [],
      "source": []
    },
    {
      "cell_type": "markdown",
      "source": [
        "# 1. What is Python, and why is it popular?\n",
        "Python is a high-level, interpreted, general-purpose programming language created by Guido van Rossum and first released in 1991.\n",
        "It emphasizes readability, simplicity, and ease of use, making it a favorite for beginners and professionals alike.\n",
        "\n",
        "\n",
        "#2. What is an interpreter in Python?\n",
        "An interpreter is a program that reads and executes Python code line by line. It allows immediate execution and debugging without the need to compile thecode first.\n",
        "\n",
        "#3. What are pre-defined keywords in Python?\n",
        "Pre-defined keywords are reserved words in Python that have special meanings, like if, for, True, None, class, etc. They are part of Python's syntax.\n",
        "\n",
        "#4. Can keywords be used as variable names?\n",
        "No, keywords cannot be used as variable names because they are reserved by Python and used to define language structure.\n",
        "\n",
        "#5. What is mutability in Python?\n",
        "Mutability refers to whether an object can be changed after it is created. Mutable objects (like lists) can be modified; immutable ones (like strings and tuples) cannot.\n",
        "\n",
        "#6. Why are lists mutable, but tuples are immutable?\n",
        "Lists are designed to hold dynamic data, allowing changes (add/remove/modify elements). Tuples are meant for fixed data, offering safety and better performance by being immutable.\n",
        "\n",
        "#7. What is the difference between == and is operators in Python?\n",
        "== checks if values are equal.\n",
        "\n",
        "is checks if two variables refer to the same object in memory.\n",
        "\n",
        "#8. What are logical operators in Python?\n",
        "Logical operators are used to combine conditional statements:\n",
        "\n",
        "and :- True if both conditions are true\n",
        "\n",
        "or :- True if at least one condition is true\n",
        "\n",
        "not :- Reverses the result\n",
        "\n",
        "#9. What is type casting in Python?\n",
        "Type casting is the process of converting a variable from one type to another, like converting a string to an integer or a float.\n",
        "\n",
        "#10. What is the difference between implicit and explicit type casting?\n",
        "Implicit: Python automatically converts the type (e.g., int + float becomes float).\n",
        "\n",
        "Explicit: The programmer manually converts the type using functions like int(), float(), str().\n",
        "\n",
        "#11. What is the purpose of conditional statements in Python?\n",
        "Conditional statements (if, elif, else) are used to execute code blocks based on certain conditions, allowing the program to make decisions.\n",
        "\n",
        "#12. How does the elif statement work?\n",
        "elif (short for \"else if\") allows you to check multiple conditions one after another. It only executes if the previous if or elif condition is false.\n",
        "\n",
        "#13. What is the difference between for and while loops?\n",
        "for loop: Used when the number of iterations is known (e.g., looping through a list).\n",
        "\n",
        "while loop: Used when the loop should continue until a condition is no longer true.\n",
        "\n",
        "#14. Describe a scenario where a while loop is more suitable than a for loop.\n",
        "A while loop is better when waiting for user input or a certain event, such as:\n",
        "\n",
        "Keep asking until user types 'exit'\n",
        "user_input = \"\" while user_input != \"exit\": user_input = input(\"Type 'exit' to quit: \")"
      ],
      "metadata": {
        "id": "0fQif5NAxJKt"
      }
    },
    {
      "cell_type": "code",
      "source": [
        "# 1. Write a Python program to print \"Hello, World!\n",
        "print (\"Hello, world\")"
      ],
      "metadata": {
        "colab": {
          "base_uri": "https://localhost:8080/"
        },
        "id": "i7vTSiXwyEWx",
        "outputId": "8af7ceb1-4d70-475d-a6e3-13fa749e0208"
      },
      "execution_count": null,
      "outputs": [
        {
          "output_type": "stream",
          "name": "stdout",
          "text": [
            "Hello, world\n"
          ]
        }
      ]
    },
    {
      "cell_type": "code",
      "source": [
        "# 2. Write a Python program that displays your name and age.\n",
        "#Define your name and age\n",
        "name = \"Himanshu Singh\"\n",
        "age = \"35\"\n",
        "print (\"My name is\", name)\n",
        "print (\"I am\", age, \"years old\")"
      ],
      "metadata": {
        "colab": {
          "base_uri": "https://localhost:8080/"
        },
        "id": "f9YTOqKsybuU",
        "outputId": "b1e808e8-467a-41f4-ea5a-9754c3b9464e"
      },
      "execution_count": null,
      "outputs": [
        {
          "output_type": "stream",
          "name": "stdout",
          "text": [
            "My name is Himanshu Singh\n",
            "I am 35 years old\n"
          ]
        }
      ]
    },
    {
      "cell_type": "code",
      "source": [
        "# 3.Write code to print all the pre-defined keywords in Python using the keyword library\n",
        "print (\"pre-defined keywords\")\n",
        "help('keywords')"
      ],
      "metadata": {
        "colab": {
          "base_uri": "https://localhost:8080/"
        },
        "id": "tKcc7VKn0jH8",
        "outputId": "fcaad2bf-840e-461c-a8cd-c59409cea872"
      },
      "execution_count": null,
      "outputs": [
        {
          "output_type": "stream",
          "name": "stdout",
          "text": [
            "pre-defined keywords\n",
            "\n",
            "Here is a list of the Python keywords.  Enter any keyword to get more help.\n",
            "\n",
            "False               class               from                or\n",
            "None                continue            global              pass\n",
            "True                def                 if                  raise\n",
            "and                 del                 import              return\n",
            "as                  elif                in                  try\n",
            "assert              else                is                  while\n",
            "async               except              lambda              with\n",
            "await               finally             nonlocal            yield\n",
            "break               for                 not                 \n",
            "\n"
          ]
        }
      ]
    },
    {
      "cell_type": "code",
      "source": [
        "# 4.Write a program that checks if a given word is a Python keyword\n",
        "import keyword\n",
        "word = input(\"Enter any word to check Python keyword: \")\n",
        "if keyword.iskeyword(word):\n",
        "  print(word, \"is a Python keyword.\")\n",
        "else:\n",
        "    print(word,\" is not a Python keyword.\")"
      ],
      "metadata": {
        "colab": {
          "base_uri": "https://localhost:8080/"
        },
        "id": "Bqf4L910NHuI",
        "outputId": "30a9fd46-bbad-4dda-c065-340e31544d1e"
      },
      "execution_count": 1,
      "outputs": [
        {
          "output_type": "stream",
          "name": "stdout",
          "text": [
            "Enter any word to check Python keyword: rd\n",
            "rd  is not a Python keyword.\n"
          ]
        }
      ]
    },
    {
      "cell_type": "code",
      "source": [
        "\"\"\" 5.Create a list and tuple in Python, and demonstrate how attempting to change an element works differently\n",
        "for each.\"\"\"\n",
        "\n",
        "#List\n",
        "list_cont = [1,2.3, 4+5j, True, \"Imtiyaz\"]\n",
        "print (\"Original list: \", list_cont)\n",
        "list_cont[0] = 2  #replace word from list cont[0]\n",
        "print(\"After value change in list: \", list_cont)\n",
        "\n",
        "#Tuple\n",
        "tuple_cont = (1,2,34,5,55,45,33)\n",
        "print (\"Original tuple: \", tuple_cont)\n",
        "# tuple_cont[2] = 22  #replace word from list cont[2] - This line causes an error because tuples are immutable\n",
        "print (\"After change tuple: \", tuple_cont)"
      ],
      "metadata": {
        "colab": {
          "base_uri": "https://localhost:8080/",
          "height": 245
        },
        "id": "lqDiiPczNXJD",
        "outputId": "7bb9bd1b-64b6-4543-841e-ff6a0aec3b4d"
      },
      "execution_count": 2,
      "outputs": [
        {
          "output_type": "stream",
          "name": "stdout",
          "text": [
            "Original list:  [1, 2.3, (4+5j), True, 'Imtiyaz']\n",
            "After value change in list:  [2, 2.3, (4+5j), True, 'Imtiyaz']\n",
            "Original tuple:  (1, 2, 34, 5, 55, 45, 33)\n"
          ]
        },
        {
          "output_type": "error",
          "ename": "TypeError",
          "evalue": "'tuple' object does not support item assignment",
          "traceback": [
            "\u001b[0;31m---------------------------------------------------------------------------\u001b[0m",
            "\u001b[0;31mTypeError\u001b[0m                                 Traceback (most recent call last)",
            "\u001b[0;32m/tmp/ipython-input-3810416209.py\u001b[0m in \u001b[0;36m<cell line: 0>\u001b[0;34m()\u001b[0m\n\u001b[1;32m     11\u001b[0m \u001b[0mtuple_cont\u001b[0m \u001b[0;34m=\u001b[0m \u001b[0;34m(\u001b[0m\u001b[0;36m1\u001b[0m\u001b[0;34m,\u001b[0m\u001b[0;36m2\u001b[0m\u001b[0;34m,\u001b[0m\u001b[0;36m34\u001b[0m\u001b[0;34m,\u001b[0m\u001b[0;36m5\u001b[0m\u001b[0;34m,\u001b[0m\u001b[0;36m55\u001b[0m\u001b[0;34m,\u001b[0m\u001b[0;36m45\u001b[0m\u001b[0;34m,\u001b[0m\u001b[0;36m33\u001b[0m\u001b[0;34m)\u001b[0m\u001b[0;34m\u001b[0m\u001b[0;34m\u001b[0m\u001b[0m\n\u001b[1;32m     12\u001b[0m \u001b[0mprint\u001b[0m \u001b[0;34m(\u001b[0m\u001b[0;34m\"Original tuple: \"\u001b[0m\u001b[0;34m,\u001b[0m \u001b[0mtuple_cont\u001b[0m\u001b[0;34m)\u001b[0m\u001b[0;34m\u001b[0m\u001b[0;34m\u001b[0m\u001b[0m\n\u001b[0;32m---> 13\u001b[0;31m \u001b[0mtuple_cont\u001b[0m\u001b[0;34m[\u001b[0m\u001b[0;36m2\u001b[0m\u001b[0;34m]\u001b[0m \u001b[0;34m=\u001b[0m \u001b[0;36m22\u001b[0m  \u001b[0;31m#replace word from list cont[2]\u001b[0m\u001b[0;34m\u001b[0m\u001b[0;34m\u001b[0m\u001b[0m\n\u001b[0m\u001b[1;32m     14\u001b[0m \u001b[0mprint\u001b[0m \u001b[0;34m(\u001b[0m\u001b[0;34m\"After change tuple: \"\u001b[0m\u001b[0;34m,\u001b[0m \u001b[0mtuple_cont\u001b[0m\u001b[0;34m)\u001b[0m  \u001b[0;31m#it gives error ('Tuple' does not support item assignment)\u001b[0m\u001b[0;34m\u001b[0m\u001b[0;34m\u001b[0m\u001b[0m\n",
            "\u001b[0;31mTypeError\u001b[0m: 'tuple' object does not support item assignment"
          ]
        }
      ]
    },
    {
      "cell_type": "code",
      "source": [
        "# 6.  Write a function to demonstrate the behavior of mutable and immutable arguments.\n",
        "\n",
        "#mutability\n",
        "\"\"\"objects whose state or value can be changed after they are created are called as mutable objects\n",
        "list,dict,set are type of mutable object which support item assignment\"\"\"\n",
        "\n",
        "list_value1 = [1, 2, 3, 4.3, (3+5j), True, 'Imtiyaz']\n",
        "print(f\"Original list value: {list_value1}\")\n",
        "list_value1[0] = 100     #replace word from list cont[0]\n",
        "list_value1[6] = \"Md\"    #replace word from list cont[6]\n",
        "print(f\"After change list value: {list_value1}\")\n",
        "\n",
        "#immutable\n",
        "\"\"\"objects whose state or value can not be changed after they are created are called as immutable objects.\n",
        "string,Int, float and tuple are type of immutable object, doesn't supports item assignment\"\"\"\n",
        "\n",
        "String_value1 = \"Imtiyaz\"\n",
        "String_value1[1]= \"n\"\n",
        "String_value1             #it gives error ('str' object does not support item assignment)\n"
      ],
      "metadata": {
        "colab": {
          "base_uri": "https://localhost:8080/",
          "height": 228
        },
        "id": "vOHvttcnNgfl",
        "outputId": "d584174a-0c57-4767-98b4-1da52f172bb4"
      },
      "execution_count": 3,
      "outputs": [
        {
          "output_type": "stream",
          "name": "stdout",
          "text": [
            "Original list value: [1, 2, 3, 4.3, (3+5j), True, 'Imtiyaz']\n",
            "After change list value: [100, 2, 3, 4.3, (3+5j), True, 'Md']\n"
          ]
        },
        {
          "output_type": "error",
          "ename": "TypeError",
          "evalue": "'str' object does not support item assignment",
          "traceback": [
            "\u001b[0;31m---------------------------------------------------------------------------\u001b[0m",
            "\u001b[0;31mTypeError\u001b[0m                                 Traceback (most recent call last)",
            "\u001b[0;32m/tmp/ipython-input-1783653715.py\u001b[0m in \u001b[0;36m<cell line: 0>\u001b[0;34m()\u001b[0m\n\u001b[1;32m     16\u001b[0m \u001b[0;34m\u001b[0m\u001b[0m\n\u001b[1;32m     17\u001b[0m \u001b[0mString_value1\u001b[0m \u001b[0;34m=\u001b[0m \u001b[0;34m\"Imtiyaz\"\u001b[0m\u001b[0;34m\u001b[0m\u001b[0;34m\u001b[0m\u001b[0m\n\u001b[0;32m---> 18\u001b[0;31m \u001b[0mString_value1\u001b[0m\u001b[0;34m[\u001b[0m\u001b[0;36m1\u001b[0m\u001b[0;34m]\u001b[0m\u001b[0;34m=\u001b[0m \u001b[0;34m\"n\"\u001b[0m\u001b[0;34m\u001b[0m\u001b[0;34m\u001b[0m\u001b[0m\n\u001b[0m\u001b[1;32m     19\u001b[0m \u001b[0mString_value1\u001b[0m             \u001b[0;31m#it gives error ('str' object does not support item assignment)\u001b[0m\u001b[0;34m\u001b[0m\u001b[0;34m\u001b[0m\u001b[0m\n",
            "\u001b[0;31mTypeError\u001b[0m: 'str' object does not support item assignment"
          ]
        }
      ]
    },
    {
      "cell_type": "code",
      "source": [
        "# 7.Write a program that performs basic arithmetic operations on two user-input numbers.\n",
        "num1 = int(input(\"Enter the first number: \"))\n",
        "num2 = int(input(\"Enter the second number: \"))\n",
        "print(\"addition: \", num1+num2)\n",
        "print(\"Subtraction: \", num1-num2)\n",
        "print(\"Multiplication: \", num1*num2)\n",
        "if num2 != 0:\n",
        "    print(\"Division: \", num1 / num2)\n",
        "else:\n",
        "    print(\"Division: Cannot divide by zero.\")"
      ],
      "metadata": {
        "colab": {
          "base_uri": "https://localhost:8080/"
        },
        "id": "iIq6BxUdNnWl",
        "outputId": "df8da5f1-8235-451b-827c-10c9315470c1"
      },
      "execution_count": 4,
      "outputs": [
        {
          "output_type": "stream",
          "name": "stdout",
          "text": [
            "Enter the first number: 2\n",
            "Enter the second number: 3\n",
            "addition:  5\n",
            "Subtraction:  -1\n",
            "Multiplication:  6\n",
            "Division:  0.6666666666666666\n"
          ]
        }
      ]
    },
    {
      "cell_type": "code",
      "source": [
        "# 8.Write a program to demonstrate the use of logical operators\n",
        "#\"and\" ogical operators\n",
        "print(\"Result of 'AND' logical operators:\")\n",
        "print(True and True)\n",
        "print(True and False)\n",
        "print(False and True)\n",
        "print(False and False)\n",
        "# \"or\" ogical operators\n",
        "print(\"Result of 'OR' logical operators:\")\n",
        "print(True or True)\n",
        "print(True or False)\n",
        "print(False or True)\n",
        "print(False or False)\n",
        "# \"not\" ogical operators\n",
        "print(\"Result of 'NOT' logical operators:\")\n",
        "print(True)\n",
        "print(False)"
      ],
      "metadata": {
        "colab": {
          "base_uri": "https://localhost:8080/"
        },
        "id": "BgSg86fXNs65",
        "outputId": "ecab147f-2af6-4d0f-979c-589938507fb1"
      },
      "execution_count": 5,
      "outputs": [
        {
          "output_type": "stream",
          "name": "stdout",
          "text": [
            "Result of 'AND' logical operators:\n",
            "True\n",
            "False\n",
            "False\n",
            "False\n",
            "Result of 'OR' logical operators:\n",
            "True\n",
            "True\n",
            "True\n",
            "False\n",
            "Result of 'NOT' logical operators:\n",
            "True\n",
            "False\n"
          ]
        }
      ]
    },
    {
      "cell_type": "code",
      "source": [
        "# 9.Write a Python program to convert user input from string to integer, float, and boolean types\n",
        "\n",
        "# Note:- Cannot convert string value to integer and float.\n",
        "\n",
        "user_input = input(\"Enter a value : \")   # Get input from user\n",
        "str_value = str(user_input) # convert to string\n",
        "print(\"after convert str-value is: \", str_value)\n",
        "\n",
        "int_value = int(user_input) # Convert to integer\n",
        "print(\"after convert integer-value is: \", int_value)\n",
        "\n",
        "float_value = float(user_input) # Convert to float\n",
        "print(\"after convert float-value is: \", float_value)\n",
        "\n",
        "bool_value = bool(user_input) #Convert to boolean (Note:- only empty strings convert to False)\n",
        "print(\"after convert boolean value is: \", bool_value)"
      ],
      "metadata": {
        "colab": {
          "base_uri": "https://localhost:8080/"
        },
        "id": "TwKIg13DNw1p",
        "outputId": "31ab356d-9785-433f-b2b1-cdbe46630c2a"
      },
      "execution_count": 6,
      "outputs": [
        {
          "output_type": "stream",
          "name": "stdout",
          "text": [
            "Enter a value : 15\n",
            "after convert str-value is:  15\n",
            "after convert integer-value is:  15\n",
            "after convert float-value is:  15.0\n",
            "after convert boolean value is:  True\n"
          ]
        }
      ]
    },
    {
      "cell_type": "code",
      "source": [
        "# 10.Write code to demonstrate type casting with list elements.\n",
        "# List of strings (representing numbers)\n",
        "string_list = ['1', '2', '3', '4']\n",
        "\n",
        "# Convert each element to integer\n",
        "int_list = [int(item) for item in string_list]\n",
        "\n",
        "# Convert each element to float\n",
        "float_list = [float(item) for item in string_list]\n",
        "\n",
        "# Convert each element to boolean\n",
        "bool_list = [bool(item) for item in string_list]\n",
        "\n",
        "# Display the results\n",
        "print(\"Original list (strings):\", string_list)\n",
        "print(\"List as integers:\", int_list)\n",
        "print(\"List as floats:\", float_list)\n",
        "print(\"List as booleans:\", bool_list)"
      ],
      "metadata": {
        "colab": {
          "base_uri": "https://localhost:8080/"
        },
        "id": "4FHHQ9-sN2W3",
        "outputId": "c4ed82fb-87f7-4ec5-a424-e5fe5a25ab99"
      },
      "execution_count": 7,
      "outputs": [
        {
          "output_type": "stream",
          "name": "stdout",
          "text": [
            "Original list (strings): ['1', '2', '3', '4']\n",
            "List as integers: [1, 2, 3, 4]\n",
            "List as floats: [1.0, 2.0, 3.0, 4.0]\n",
            "List as booleans: [True, True, True, True]\n"
          ]
        }
      ]
    },
    {
      "cell_type": "code",
      "source": [
        "# 11.Write a program that checks if a number is positive, negative, or zero.\n",
        "# Get input from user\n",
        "user_num = int(input(\"Enter a int number: \"))\n",
        "\n",
        "if user_num > 0:\n",
        "    print(\"The number\", user_num, \"is positive.\")\n",
        "elif user_num < 0:\n",
        "    print(\"The number\", user_num, \"is negative.\")\n",
        "else:\n",
        "    print(\"The number\", user_num, \"is zero.\")"
      ],
      "metadata": {
        "colab": {
          "base_uri": "https://localhost:8080/"
        },
        "id": "pSBXJqfdN6G3",
        "outputId": "1f77e109-264b-420f-8e22-f8262c1c3a20"
      },
      "execution_count": 8,
      "outputs": [
        {
          "output_type": "stream",
          "name": "stdout",
          "text": [
            "Enter a int number: 4\n",
            "The number 4 is positive.\n"
          ]
        }
      ]
    },
    {
      "cell_type": "code",
      "source": [
        "# 12.Write a for loop to print numbers from 1 to 10.\n",
        "a = 1\n",
        "b = 11\n",
        "for i in range(a, b):\n",
        "  print(i)\n",
        "# another way to print\n",
        "print(\"another way to print:\")\n",
        "list(range(a, b))"
      ],
      "metadata": {
        "colab": {
          "base_uri": "https://localhost:8080/"
        },
        "id": "B44zQt5cN9sf",
        "outputId": "f9b27562-7612-46b2-9b4e-f73168c61814"
      },
      "execution_count": 9,
      "outputs": [
        {
          "output_type": "stream",
          "name": "stdout",
          "text": [
            "1\n",
            "2\n",
            "3\n",
            "4\n",
            "5\n",
            "6\n",
            "7\n",
            "8\n",
            "9\n",
            "10\n",
            "another way to print:\n"
          ]
        },
        {
          "output_type": "execute_result",
          "data": {
            "text/plain": [
              "[1, 2, 3, 4, 5, 6, 7, 8, 9, 10]"
            ]
          },
          "metadata": {},
          "execution_count": 9
        }
      ]
    },
    {
      "cell_type": "code",
      "source": [
        "# 13.Write a Python program to find the sum of all even numbers between 1 and 50.\n",
        "even_sum = 0\n",
        "for i in range(1, 51):\n",
        "    if i % 2 == 0:\n",
        "        even_sum += i\n",
        "print(\"Sum of even numbers from 1 to 50 is:\", even_sum)"
      ],
      "metadata": {
        "colab": {
          "base_uri": "https://localhost:8080/"
        },
        "id": "kik6RubiOA7Z",
        "outputId": "89c9034f-bb4a-42d3-ee64-80764589a870"
      },
      "execution_count": 10,
      "outputs": [
        {
          "output_type": "stream",
          "name": "stdout",
          "text": [
            "Sum of even numbers from 1 to 50 is: 650\n"
          ]
        }
      ]
    },
    {
      "cell_type": "code",
      "source": [
        "# 14.Write a program to reverse a string using a while loop.\n",
        "# Get input from the user\n",
        "text = input(\"Enter a string: \")\n",
        "\n",
        "# Initialize variables\n",
        "reversed_text = \"\"\n",
        "index = len(text) - 1\n",
        "\n",
        "# Reverse the string using a while loop\n",
        "while index >= 0:\n",
        "    reversed_text += text[index]\n",
        "    index -= 1\n",
        "\n",
        "# Display the reversed string\n",
        "print(\"Reversed string:\", reversed_text)"
      ],
      "metadata": {
        "colab": {
          "base_uri": "https://localhost:8080/"
        },
        "id": "3Ds04PLiOEdU",
        "outputId": "6490e509-2918-47c3-9d96-d77a6e18b191"
      },
      "execution_count": 11,
      "outputs": [
        {
          "output_type": "stream",
          "name": "stdout",
          "text": [
            "Enter a string: Himanshu\n",
            "Reversed string: uhsnamiH\n"
          ]
        }
      ]
    },
    {
      "cell_type": "code",
      "source": [
        "# 15.Write a Python program to calculate the factorial of a number provided by the user using a while loop.\n",
        "\n",
        "num = int(input(\"Enter a non-negative integer: \"))  # Get input from user\n",
        "\n",
        "# Check if the number is negative\n",
        "if num < 0:\n",
        "    print(\"Factorial is not defined for negative numbers.\")\n",
        "else:\n",
        "    factorial = 1\n",
        "    i = 1\n",
        "    while i <= num:\n",
        "        factorial *= i\n",
        "        i += 1\n",
        "\n",
        "    print(\"Factorial of\", num, \"is: \", factorial)"
      ],
      "metadata": {
        "colab": {
          "base_uri": "https://localhost:8080/"
        },
        "id": "t6nbwmugOFLw",
        "outputId": "7b3d0952-2e04-4ab3-f227-2b55b1a866b1"
      },
      "execution_count": 13,
      "outputs": [
        {
          "output_type": "stream",
          "name": "stdout",
          "text": [
            "Enter a non-negative integer: 7\n",
            "Factorial of 7 is:  5040\n"
          ]
        }
      ]
    }
  ]
}